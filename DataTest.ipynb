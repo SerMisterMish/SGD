{
 "cells": [
  {
   "cell_type": "code",
   "execution_count": 2,
   "metadata": {
    "editable": true,
    "slideshow": {
     "slide_type": ""
    },
    "tags": []
   },
   "outputs": [],
   "source": [
    "import numpy as np\n",
    "import pandas as pd\n",
    "import matplotlib.pyplot as plt\n",
    "from numpy.random import normal\n",
    "from numpy.linalg import norm\n",
    "from scipy.stats import beta\n",
    "from scipy.special import digamma\n",
    "from sklearn.preprocessing import StandardScaler\n",
    "from sklearn.model_selection import train_test_split\n",
    "from sklearn.metrics import explained_variance_score, root_mean_squared_error, r2_score\n",
    "from sklearn.linear_model import SGDRegressor\n",
    "\n",
    "from RMSProp import SGD_RMSProp\n",
    "from BetaRegression import *"
   ]
  },
  {
   "cell_type": "markdown",
   "metadata": {},
   "source": [
    "# Проверка SGD RMSProp на данных в модели бета-регрессии "
   ]
  },
  {
   "cell_type": "code",
   "execution_count": 3,
   "metadata": {},
   "outputs": [
    {
     "data": {
      "text/html": [
       "<div>\n",
       "<style scoped>\n",
       "    .dataframe tbody tr th:only-of-type {\n",
       "        vertical-align: middle;\n",
       "    }\n",
       "\n",
       "    .dataframe tbody tr th {\n",
       "        vertical-align: top;\n",
       "    }\n",
       "\n",
       "    .dataframe thead th {\n",
       "        text-align: right;\n",
       "    }\n",
       "</style>\n",
       "<table border=\"1\" class=\"dataframe\">\n",
       "  <thead>\n",
       "    <tr style=\"text-align: right;\">\n",
       "      <th></th>\n",
       "      <th>Site_id</th>\n",
       "      <th>Visit_id</th>\n",
       "      <th>Species_id</th>\n",
       "      <th>Cover</th>\n",
       "    </tr>\n",
       "  </thead>\n",
       "  <tbody>\n",
       "    <tr>\n",
       "      <th>0</th>\n",
       "      <td>4</td>\n",
       "      <td>6345</td>\n",
       "      <td>2338</td>\n",
       "      <td>2</td>\n",
       "    </tr>\n",
       "    <tr>\n",
       "      <th>1</th>\n",
       "      <td>4</td>\n",
       "      <td>16199</td>\n",
       "      <td>2338</td>\n",
       "      <td>3</td>\n",
       "    </tr>\n",
       "    <tr>\n",
       "      <th>2</th>\n",
       "      <td>4</td>\n",
       "      <td>28382</td>\n",
       "      <td>2338</td>\n",
       "      <td>3</td>\n",
       "    </tr>\n",
       "    <tr>\n",
       "      <th>3</th>\n",
       "      <td>4</td>\n",
       "      <td>40703</td>\n",
       "      <td>2338</td>\n",
       "      <td>2</td>\n",
       "    </tr>\n",
       "    <tr>\n",
       "      <th>4</th>\n",
       "      <td>4</td>\n",
       "      <td>49283</td>\n",
       "      <td>2338</td>\n",
       "      <td>1</td>\n",
       "    </tr>\n",
       "  </tbody>\n",
       "</table>\n",
       "</div>"
      ],
      "text/plain": [
       "   Site_id  Visit_id  Species_id  Cover\n",
       "0        4      6345        2338      2\n",
       "1        4     16199        2338      3\n",
       "2        4     28382        2338      3\n",
       "3        4     40703        2338      2\n",
       "4        4     49283        2338      1"
      ]
     },
     "execution_count": 3,
     "metadata": {},
     "output_type": "execute_result"
    }
   ],
   "source": [
    "df = pd.read_csv(\"./Data/observations.csv\", sep=\";\").drop(\"Cover_class\", axis = 1)\n",
    "df.head()"
   ]
  },
  {
   "cell_type": "code",
   "execution_count": 4,
   "metadata": {},
   "outputs": [],
   "source": [
    "X, y = df.drop(\"Cover\", axis=1), df[\"Cover\"] / 100\n",
    "nrow, ncol = X.shape"
   ]
  },
  {
   "cell_type": "markdown",
   "metadata": {},
   "source": [
    "### Стандартизация данных"
   ]
  },
  {
   "cell_type": "code",
   "execution_count": 5,
   "metadata": {},
   "outputs": [],
   "source": [
    "scaler = StandardScaler()\n",
    "X_train, X_test, y_train, y_test = train_test_split(\n",
    "    X, y, test_size=0.33, random_state=42\n",
    ")\n",
    "\n",
    "X_train_s = scaler.fit_transform(X_train)\n",
    "X_test_s = scaler.transform(X_test)"
   ]
  },
  {
   "cell_type": "markdown",
   "metadata": {},
   "source": [
    "### Бета-регрессия:"
   ]
  },
  {
   "cell_type": "code",
   "execution_count": 71,
   "metadata": {},
   "outputs": [
    {
     "name": "stdout",
     "output_type": "stream",
     "text": [
      "CPU times: user 301 ms, sys: 329 μs, total: 301 ms\n",
      "Wall time: 313 ms\n"
     ]
    }
   ],
   "source": [
    "%%time\n",
    "\n",
    "np.random.seed(42)\n",
    "\n",
    "# beta_start = normal(0, 1, ncol) ** 2\n",
    "# phi_start = normal(0, 1, 1) ** 2\n",
    "mean_y_train = y_train.mean()\n",
    "phi_y_train = (mean_y_train * (1 - mean_y_train)) / y_train.var() - 1\n",
    "\n",
    "beta_start = normal(0, 1, 4)\n",
    "phi_start = phi_y_train\n",
    "start_point = np.append(beta_start, phi_start)\n",
    "\n",
    "X_train_ones = np.hstack([X_train_s, np.ones((y_train.size, 1))])\n",
    "X_test_ones = np.hstack([X_test_s, np.ones((y_test.size, 1))])\n",
    "\n",
    "beta_res = SGD_RMSProp(\n",
    "    start=start_point,\n",
    "    X=X_train_ones,\n",
    "    y=y_train.to_numpy(),\n",
    "    L_grad=beta_illh_grad,\n",
    "    L=beta_inv_log_likelihood,\n",
    "    batch_size=50,\n",
    "    use_epoch = True,\n",
    "    learning_rate=0.01,\n",
    "    decay_rate=0.9,\n",
    "    max_iter=10000,\n",
    "    tol=1e-4,\n",
    "    link_inverse=logit_inverse,\n",
    "    link_deriv=logit_deriv,\n",
    ")"
   ]
  },
  {
   "cell_type": "code",
   "execution_count": 73,
   "metadata": {},
   "outputs": [
    {
     "name": "stdout",
     "output_type": "stream",
     "text": [
      "\n",
      "coef: [ 0.00424009 -0.00172009 -0.24513978 -1.69793853]\n",
      "phi: 3.2336158881603354\n",
      "gradient norm: 4.813875940313717\n",
      "loss function value: -4694.91699669568\n",
      "iteratons: 4488\n",
      "\n"
     ]
    }
   ],
   "source": [
    "coef = beta_res[\"point\"][:-1]\n",
    "phi = beta_res[\"point\"][-1]\n",
    "\n",
    "print(f\"\"\"\n",
    "coef: {coef}\n",
    "phi: {phi}\n",
    "gradient norm: {norm(beta_res[\"grad_value\"])}\n",
    "loss function value: {beta_res[\"L_value\"]}\n",
    "iteratons: {beta_res[\"iterations\"]}\n",
    "\"\"\")"
   ]
  },
  {
   "cell_type": "markdown",
   "metadata": {},
   "source": [
    "### Коэффициенты и минус логарифм функции правдоподобия для них, полученные функцией `betareg` в R\n",
    "Параметры `betareg` были взяты по умолчанию."
   ]
  },
  {
   "cell_type": "code",
   "execution_count": null,
   "metadata": {},
   "outputs": [
    {
     "name": "stdout",
     "output_type": "stream",
     "text": [
      "coef: [ 6.6650000e-04  7.4393000e-03 -2.3694920e-01 -1.7240728e+00]\n",
      "phi: 3.3285\n",
      "loss function value: -4693.180611309426\n",
      "\n"
     ]
    }
   ],
   "source": [
    "R_betareg_params = np.array([0.0006665, 0.0074393, -0.2369492, -1.7240728, 3.3285])\n",
    "betareg_means_pred = logit_inverse(X_test_ones, R_betareg_params[:-1])\n",
    "print(f\"\"\"coef: {R_betareg_params[:-1]}\n",
    "phi: {R_betareg_params[-1]}\n",
    "loss function value: {beta_inv_log_likelihood(R_betareg_params, X_train_ones, y_train, link_inverse=logit_inverse)}\n",
    "\"\"\")"
   ]
  },
  {
   "cell_type": "markdown",
   "metadata": {},
   "source": [
    "### Проверка качества модели\n",
    "1.  **Псевдо $R^2$**:\n",
    "    * Cox and Snell: $$ R^2_{CS} = 1 - \\exp\\left( \\frac{2}{n} (L_0 - L_M) \\right).$$\n",
    "    * McFadden: $$R^2_{MF} = 1 - \\frac{L_M}{L_0}.$$\n",
    "\n",
    "$L_0$ - логарифм функции правдоподобия модели с константными предсказаниями ($y_i = \\overline{y}_\\text{train}$ для всех $i$, $\\varphi$ оценивается по тренировочной выборке).\\\n",
    "$L_M$ - логарифм функции правдоподобия полученной модели.\n",
    "\n",
    "2.  **RMSE**:\n",
    "$$\n",
    "    \\sqrt{\\frac{1}{n}\\sum_{i=1}^{n}(y_i - y_i^*)^2},\n",
    "$$\n",
    "$y_i$ - значение признака, $y_i^*$ - его предсказание по модели."
   ]
  },
  {
   "cell_type": "code",
   "execution_count": 9,
   "metadata": {},
   "outputs": [],
   "source": [
    "# Предсказания средних на тестовой выборке\n",
    "beta_means_pred = logit_inverse(X_test_ones, coef)\n",
    "beta_var_pred = beta_means_pred * (1 - beta_means_pred) / (1 + phi)\n"
   ]
  },
  {
   "cell_type": "code",
   "execution_count": 92,
   "metadata": {},
   "outputs": [
    {
     "name": "stdout",
     "output_type": "stream",
     "text": [
      "R^2 = 0.06123661099868338\n",
      "Pseudo R^2 (CS) = 0.307836706404368\n",
      "Pseudo R^2 (MF) = -0.21245122380799608\n"
     ]
    }
   ],
   "source": [
    "L0 = beta_log_likelihood(parameters=np.array([mean_y_train, phi_y_train]), X=np.ones((y_test.size)), y=y_test, link_inverse=lambda x, y: y)\n",
    "\n",
    "L_beta = beta_log_likelihood(parameters=beta_res[\"point\"], X=X_test_ones, y=y_test, link_inverse=logit_inverse)\n",
    "pseudo_r2_mf = 1 - L_beta / L0\n",
    "pseudo_r2_cs = 1 - np.exp(2 / y_test.size * (L0 - L_beta))\n",
    "\n",
    "print(f\"\"\"R^2 = {r2_score(y_test, beta_means_pred)}\n",
    "Pseudo R^2 (CS) = {pseudo_r2_cs}\n",
    "Pseudo R^2 (MF) = {pseudo_r2_mf}\"\"\")"
   ]
  },
  {
   "cell_type": "code",
   "execution_count": null,
   "metadata": {},
   "outputs": [
    {
     "name": "stdout",
     "output_type": "stream",
     "text": [
      "Beta prediction RMSE = 0.20554915737626148\n",
      "R betareg prediction RMSE = 0.20556753591460283\n",
      "Mean prediction RMSE = 0.21217523641176173\n",
      "R^2 = 0.06123661099868338\n",
      "\n"
     ]
    }
   ],
   "source": [
    "print(f\"\"\"Beta prediction RMSE = {root_mean_squared_error(y_test, beta_means_pred)}\n",
    "R betareg prediction RMSE = {root_mean_squared_error(y_test, good_beta_means_pred)}\n",
    "Mean prediction RMSE = {root_mean_squared_error(y_test, np.repeat(mean_y_train, y_test.size))}\n",
    "\"\"\")"
   ]
  },
  {
   "cell_type": "code",
   "execution_count": 12,
   "metadata": {},
   "outputs": [
    {
     "name": "stdout",
     "output_type": "stream",
     "text": [
      "Mean of residuals: 0.11247243652425895\n",
      "Variance of residuals: 1.2592182722710008\n",
      "Quantiles of residuals: [-4.23899052 -0.02116896  0.57716173  0.83889686  0.90158623]\n",
      "\n"
     ]
    }
   ],
   "source": [
    "# Остатки Пирсона модели на тестовой выборке (учитывают гетероскедастичность)\n",
    "beta_resids = beta_means_pred - y_test\n",
    "beta_resids_pearson = beta_resids / np.sqrt(beta_var_pred)\n",
    "\n",
    "print(f\"\"\"Mean of residuals: {beta_resids_pearson.mean()}\n",
    "Variance of residuals: {beta_resids_pearson.var()}\n",
    "Quantiles of residuals: {np.quantile(beta_resids_pearson, [0, 0.25, 0.5, 0.75, 1])}\n",
    "\"\"\")"
   ]
  },
  {
   "cell_type": "code",
   "execution_count": 13,
   "metadata": {},
   "outputs": [],
   "source": [
    "# mu = beta_means_pred\n",
    "# a, b = mu * phi, (1 - mu) * phi\n",
    "# fig, ax = plt.subplots(1, 1)\n",
    "# x = np.linspace(beta.ppf(0, a, b),\n",
    "#                 beta.ppf(1, a, b), 100)\n",
    "# ax.plot(x, beta.pdf(x, a, b), 'r-', lw=0.1, alpha=0.6);"
   ]
  },
  {
   "cell_type": "markdown",
   "metadata": {},
   "source": [
    "### Линейная регрессия"
   ]
  },
  {
   "cell_type": "code",
   "execution_count": null,
   "metadata": {},
   "outputs": [],
   "source": [
    "def linear_loss(w, X, y):\n",
    "    return norm(X.dot(w) - y) ** 2 / y.size\n",
    "\n",
    "\n",
    "def linear_loss_grad(w, X, y):\n",
    "    return 2 * X.T.dot(X.dot(w) - y) / y.size"
   ]
  },
  {
   "cell_type": "code",
   "execution_count": 81,
   "metadata": {},
   "outputs": [
    {
     "name": "stdout",
     "output_type": "stream",
     "text": [
      "\n",
      "coef: [-0.00283846  0.00328416 -0.06342049]\n",
      "intercept: 0.14157936873802665\n",
      "gradient norm: 0.04752693551699864\n",
      "loss function value: 0.03978068713977706\n",
      "iteratons: 440\n",
      "\n"
     ]
    }
   ],
   "source": [
    "np.random.seed(42)\n",
    "\n",
    "start_point_linear = normal(0, 1, 4)\n",
    "\n",
    "linear_res = SGD_RMSProp(\n",
    "    start=start_point_linear,\n",
    "    X=X_train_ones,\n",
    "    y=y_train.to_numpy(),\n",
    "    L_grad=linear_loss_grad,\n",
    "    L=linear_loss,\n",
    "    batch_size=50,\n",
    "    use_epoch = True,\n",
    "    learning_rate=0.01,\n",
    "    decay_rate=0.9,\n",
    "    max_iter=6000,\n",
    "    tol=1e-4\n",
    ")\n",
    "\n",
    "lin_coef = linear_res[\"point\"]\n",
    "\n",
    "print(f\"\"\"\n",
    "coef: {lin_coef[:-1]}\n",
    "intercept: {lin_coef[-1]}\n",
    "gradient norm: {norm(linear_res[\"grad_value\"])}\n",
    "loss function value: {linear_res[\"L_value\"]}\n",
    "iteratons: {linear_res[\"iterations\"]}\n",
    "\"\"\")"
   ]
  },
  {
   "cell_type": "code",
   "execution_count": 83,
   "metadata": {},
   "outputs": [
    {
     "name": "stdout",
     "output_type": "stream",
     "text": [
      "coef: [ 0.00175944  0.00017126 -0.06405111]\n",
      "intercept: 0.13726350846474542\n"
     ]
    }
   ],
   "source": [
    "lin_model = SGDRegressor(alpha=0, learning_rate=\"adaptive\", eta0=0.01, max_iter=6000, tol=1e-4, random_state=42)\n",
    "\n",
    "lin_model.fit(X_train_s, y_train)\n",
    "print(f\"coef: {lin_model.coef_}\\nintercept: {lin_model.intercept_[0]}\")"
   ]
  },
  {
   "cell_type": "code",
   "execution_count": 86,
   "metadata": {},
   "outputs": [
    {
     "name": "stdout",
     "output_type": "stream",
     "text": [
      "RMSE for library linear model: 0.2018980189709539\n",
      "R^2 for library linear model: 0.09429063600101673\n",
      "RMSE for my linear model: 0.201969707194513\n",
      "R^2 for my linear model: 0.09364733872786779\n",
      "\n"
     ]
    }
   ],
   "source": [
    "lin_pred = lin_model.predict(X_test_s)\n",
    "my_lin_pred = X_test_ones.dot(lin_coef)\n",
    "print(f\"\"\"RMSE for library linear model: {root_mean_squared_error(y_test, lin_pred)}\n",
    "R^2 for library linear model: {r2_score(y_test, lin_pred)}\n",
    "RMSE for my linear model: {root_mean_squared_error(y_test, my_lin_pred)}\n",
    "R^2 for my linear model: {r2_score(y_test, my_lin_pred)}\n",
    "\"\"\")"
   ]
  }
 ],
 "metadata": {
  "kernelspec": {
   "display_name": "Python 3",
   "language": "python",
   "name": "python3"
  },
  "language_info": {
   "codemirror_mode": {
    "name": "ipython",
    "version": 3
   },
   "file_extension": ".py",
   "mimetype": "text/x-python",
   "name": "python",
   "nbconvert_exporter": "python",
   "pygments_lexer": "ipython3",
   "version": "3.12.7"
  }
 },
 "nbformat": 4,
 "nbformat_minor": 4
}
