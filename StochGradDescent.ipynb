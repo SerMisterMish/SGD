{
 "cells": [
  {
   "cell_type": "code",
   "execution_count": 3,
   "metadata": {},
   "outputs": [],
   "source": [
    "import numpy as np\n",
    "from numpy.linalg import norm\n",
    "from numpy.random import choice\n",
    "from numpy.typing import ArrayLike, NDArray\n",
    "from typing import Callable"
   ]
  },
  {
   "cell_type": "markdown",
   "metadata": {},
   "source": [
    "## Стохастический градиент"
   ]
  },
  {
   "cell_type": "code",
   "execution_count": 69,
   "metadata": {},
   "outputs": [],
   "source": [
    "def StochasticGradientDescent(\n",
    "    start: ArrayLike,\n",
    "    X: NDArray,\n",
    "    y: NDArray,\n",
    "    L: Callable,\n",
    "    L_grad: Callable,\n",
    "    learning_rate: float = 0.01,\n",
    "    batch_size: int = 64,\n",
    "    max_iter=1000,\n",
    "    tol=1e-7,\n",
    "    **kwargs\n",
    ") -> dict:\n",
    "    curr_point = start\n",
    "    W_error = None\n",
    "\n",
    "    curr_iter = 0\n",
    "    while W_error is None or (curr_iter < max_iter and W_error >= tol):\n",
    "        idx = choice(X.shape[0], batch_size, replace=False)\n",
    "        batch_X, batch_y = X[idx, :], np.array([y[idx]]).T\n",
    "\n",
    "        curr_value = L(curr_point, batch_X, batch_y, **kwargs)\n",
    "        curr_grad = L_grad(curr_point, batch_X, batch_y, **kwargs)\n",
    "\n",
    "        curr_point = curr_point - learning_rate * curr_grad\n",
    "        W_error = norm(learning_rate * curr_grad)\n",
    "        curr_iter += 1\n",
    "\n",
    "    return {\n",
    "        \"point\": curr_point.reshape((X.shape[1] + 1)),\n",
    "        \"L_value\": curr_value,\n",
    "        \"grad_value\": curr_grad.reshape((X.shape[1] + 1)),\n",
    "        \"iterations\": curr_iter,\n",
    "    }"
   ]
  },
  {
   "cell_type": "markdown",
   "metadata": {},
   "source": [
    "### Тест стохастического градиентного спуска"
   ]
  },
  {
   "cell_type": "code",
   "execution_count": null,
   "metadata": {},
   "outputs": [
    {
     "name": "stdout",
     "output_type": "stream",
     "text": [
      "6.336279110461559e-06\n"
     ]
    }
   ],
   "source": [
    "def L(w, X, y):\n",
    "    X_tmp = np.hstack([X, np.ones((y.size, 1))])\n",
    "    return norm(X_tmp.dot(w) - y) ** 2 / y.size\n",
    "\n",
    "\n",
    "def L_grad(w, X, y):\n",
    "    X_tmp = np.hstack([X, np.ones((y.size, 1))])\n",
    "    return 2 * X_tmp.T.dot(X_tmp.dot(w) - y) / y.size\n",
    "\n",
    "np.random.seed(42)\n",
    "nrow, ncol = 500, 10\n",
    "X = np.array(normal(0, 1, ncol * nrow)).reshape(nrow, ncol)\n",
    "y = normal(0, 1, nrow)\n",
    "w_start = np.array([normal(0, 1, ncol + 1)]).T\n",
    "\n",
    "StochasticGradientDescent(start = w_start, X = X, y = y, L = L, L_grad = L_grad, batch_size=100)"
   ]
  },
  {
   "cell_type": "code",
   "execution_count": null,
   "metadata": {},
   "outputs": [],
   "source": [
    "class SGDLinearRegressor(RegressorMixin):\n",
    "    def __init__(\n",
    "        self,\n",
    "        lr=0.01,\n",
    "        regularization=1.0,\n",
    "        delta_converged=1e-3,\n",
    "        max_steps=1000,\n",
    "        batch_size=64,\n",
    "    ):\n",
    "        self.lr = lr\n",
    "        self.regularization = regularization\n",
    "        self.max_steps = max_steps\n",
    "        self.delta_converged = delta_converged\n",
    "        self.batch_size = batch_size\n",
    "        self.W = None\n",
    "        self.b = None\n",
    "\n",
    "    def fit(self, X, Y):\n",
    "        W_err = None\n",
    "        self.W = normal(size=(X.shape[1], 1))\n",
    "        self.b = normal()\n",
    "        steps = 0\n",
    "\n",
    "        while W_err is None or (\n",
    "            W_err > self.delta_converged and steps <= self.max_steps\n",
    "        ):\n",
    "            idx = choice(X.shape[0], self.batch_size, replace=False)\n",
    "            batch_X, batch_Y = X[idx, :], np.array([Y[idx]]).T\n",
    "            cur_pred = batch_X.dot(self.W) + self.b\n",
    "            err = cur_pred - batch_Y\n",
    "            grad_W = (\n",
    "                2 * batch_X.T.dot(err) / self.batch_size\n",
    "                + 2 * self.regularization * self.W\n",
    "            )\n",
    "            grad_b = 2 * err.sum() / self.batch_size\n",
    "\n",
    "            W_err = norm(self.lr * grad_W)\n",
    "            self.W -= self.lr * grad_W\n",
    "            self.b -= self.lr * grad_b\n",
    "            steps += 1\n",
    "        return self\n",
    "\n",
    "    def predict(self, X):\n",
    "        return (X.dot(self.W) + self.b)[:, 0]"
   ]
  }
 ],
 "metadata": {
  "kernelspec": {
   "display_name": "Python 3",
   "language": "python",
   "name": "python3"
  },
  "language_info": {
   "codemirror_mode": {
    "name": "ipython",
    "version": 3
   },
   "file_extension": ".py",
   "mimetype": "text/x-python",
   "name": "python",
   "nbconvert_exporter": "python",
   "pygments_lexer": "ipython3",
   "version": "3.12.7"
  }
 },
 "nbformat": 4,
 "nbformat_minor": 2
}
