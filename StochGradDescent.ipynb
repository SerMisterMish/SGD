{
 "cells": [
  {
   "cell_type": "code",
   "execution_count": 1,
   "metadata": {},
   "outputs": [],
   "source": [
    "import numpy as np\n",
    "from numpy.linalg import norm\n",
    "from numpy.random import normal, choice\n",
    "from numpy.typing import NDArray\n",
    "from typing import Callable"
   ]
  },
  {
   "cell_type": "markdown",
   "metadata": {},
   "source": [
    "# Стохастический градиент"
   ]
  },
  {
   "cell_type": "code",
   "execution_count": 2,
   "metadata": {},
   "outputs": [],
   "source": [
    "from StochGradDescent import StochasticGradientDescent"
   ]
  },
  {
   "cell_type": "markdown",
   "metadata": {},
   "source": [
    "### Тест стохастического градиентного спуска"
   ]
  },
  {
   "cell_type": "code",
   "execution_count": 3,
   "metadata": {},
   "outputs": [],
   "source": [
    "def L(w, X, y):\n",
    "    X_tmp = np.hstack([X, np.ones((y.size, 1))])\n",
    "    return norm(X_tmp.dot(w) - y) ** 2 / y.size\n",
    "\n",
    "\n",
    "def L_grad(w, X, y):\n",
    "    X_tmp = np.hstack([X, np.ones((y.size, 1))])\n",
    "    return 2 * X_tmp.T.dot(X_tmp.dot(w) - y) / y.size\n",
    "\n",
    "np.random.seed(42)\n",
    "nrow, ncol = 500, 4\n",
    "X = normal(0, 1, ncol * nrow).reshape(nrow, ncol)\n",
    "true_w = np.array([2, -3, 1, 0.5, 4])\n",
    "y = np.hstack([X, np.ones((nrow, 1))]).dot(true_w) + normal(0, 1, nrow)\n",
    "w_start = normal(0, 1, ncol + 1)\n",
    "\n",
    "sgd_res = StochasticGradientDescent(start = w_start, X = X, y = y, L = L, L_grad = L_grad, batch_size=100)"
   ]
  },
  {
   "cell_type": "code",
   "execution_count": 4,
   "metadata": {},
   "outputs": [
    {
     "name": "stdout",
     "output_type": "stream",
     "text": [
      "Iterations: 1000\n",
      "||w_e-w_t||^2 = 0.010893879239394999\n"
     ]
    }
   ],
   "source": [
    "print(f'Iterations: {sgd_res[\"iterations\"]}')\n",
    "print(f'||w_e-w_t||^2 = {norm(sgd_res[\"point\"] - true_w) ** 2}')"
   ]
  }
 ],
 "metadata": {
  "kernelspec": {
   "display_name": "Python 3",
   "language": "python",
   "name": "python3"
  },
  "language_info": {
   "codemirror_mode": {
    "name": "ipython",
    "version": 3
   },
   "file_extension": ".py",
   "mimetype": "text/x-python",
   "name": "python",
   "nbconvert_exporter": "python",
   "pygments_lexer": "ipython3",
   "version": "3.12.7"
  }
 },
 "nbformat": 4,
 "nbformat_minor": 2
}
