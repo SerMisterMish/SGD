{
 "cells": [
  {
   "cell_type": "code",
   "execution_count": null,
   "metadata": {},
   "outputs": [],
   "source": [
    "import numpy as np\n",
    "from numpy.linalg import norm\n",
    "from numpy.random import normal, choice\n",
    "from numpy.typing import NDArray\n",
    "from typing import Callable"
   ]
  },
  {
   "cell_type": "markdown",
   "metadata": {},
   "source": [
    "## Стохастический градиентный спуск RMSProp"
   ]
  },
  {
   "cell_type": "code",
   "execution_count": 30,
   "metadata": {},
   "outputs": [],
   "source": [
    "def SGD_RMSProp(\n",
    "    start: NDArray,\n",
    "    X: NDArray,\n",
    "    y: NDArray,\n",
    "    L: Callable,\n",
    "    L_grad: Callable,\n",
    "    learning_rate: float = 0.01,\n",
    "    batch_size: int = 64,\n",
    "    decay_rate: float = 0.5,\n",
    "    max_iter=1000,\n",
    "    tol=1e-7,\n",
    "    **kwargs\n",
    ") -> dict:\n",
    "    curr_point = start\n",
    "    W_error = None\n",
    "    run_avg = np.zeros(np.size(start))\n",
    "    curr_iter = 0\n",
    "    while W_error is None or (curr_iter < max_iter and W_error >= tol):\n",
    "        idx = choice(X.shape[0], batch_size, replace=False)\n",
    "        batch_X, batch_y = X[idx, :], np.array([y[idx]]).reshape(idx.shape)\n",
    "\n",
    "        curr_value = L(curr_point, batch_X, batch_y, **kwargs)\n",
    "        curr_grad = L_grad(curr_point, batch_X, batch_y, **kwargs)\n",
    "        run_avg = decay_rate * run_avg + (1 - decay_rate) * curr_grad**2\n",
    "\n",
    "        curr_point -= learning_rate / np.sqrt(run_avg) * curr_grad\n",
    "        W_error = norm(learning_rate * curr_grad)\n",
    "        curr_iter += 1\n",
    "\n",
    "    return {\n",
    "        \"point\": curr_point,\n",
    "        \"L_value\": curr_value,\n",
    "        \"grad_value\": curr_grad,\n",
    "        \"iterations\": curr_iter,\n",
    "    }"
   ]
  },
  {
   "cell_type": "markdown",
   "metadata": {},
   "source": [
    "### Тест SGD RMSPror"
   ]
  },
  {
   "cell_type": "code",
   "execution_count": 31,
   "metadata": {},
   "outputs": [
    {
     "data": {
      "text/plain": [
       "{'point': array([-0.03013664, -0.00814308,  0.05380853, -0.01508805,  0.05429916,\n",
       "        -0.0284643 , -0.03526804,  0.03044846,  0.1545661 , -0.03800563,\n",
       "        -0.0587531 ]),\n",
       " 'L_value': np.float64(0.7444698078536198),\n",
       " 'grad_value': array([ 0.03992734,  0.18952525, -0.28160292, -0.21032852,  0.22675591,\n",
       "         0.08240496,  0.07594894,  0.32893162,  0.04436239,  0.03337263,\n",
       "         0.31073536]),\n",
       " 'iterations': 1000}"
      ]
     },
     "execution_count": 31,
     "metadata": {},
     "output_type": "execute_result"
    }
   ],
   "source": [
    "def L(w, X, y):\n",
    "    X_tmp = np.hstack([X, np.ones((y.size, 1))])\n",
    "    return norm(X_tmp.dot(w) - y) ** 2 / y.size\n",
    "\n",
    "\n",
    "def L_grad(w, X, y):\n",
    "    X_tmp = np.hstack([X, np.ones((y.size, 1))])\n",
    "    return 2 * X_tmp.T.dot(X_tmp.dot(w) - y) / y.size\n",
    "\n",
    "np.random.seed(42)\n",
    "nrow, ncol = 500, 10\n",
    "X = np.array(normal(0, 1, ncol * nrow)).reshape(nrow, ncol)\n",
    "y = normal(0, 1, nrow)\n",
    "w_start = normal(0, 1, ncol + 1)\n",
    "\n",
    "SGD_RMSProp(start = w_start, X = X, y = y, L = L, L_grad = L_grad, batch_size=100)"
   ]
  }
 ],
 "metadata": {
  "kernelspec": {
   "display_name": "Python 3",
   "language": "python",
   "name": "python3"
  },
  "language_info": {
   "codemirror_mode": {
    "name": "ipython",
    "version": 3
   },
   "file_extension": ".py",
   "mimetype": "text/x-python",
   "name": "python",
   "nbconvert_exporter": "python",
   "pygments_lexer": "ipython3",
   "version": "3.12.7"
  }
 },
 "nbformat": 4,
 "nbformat_minor": 2
}
