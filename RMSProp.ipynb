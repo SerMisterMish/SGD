{
 "cells": [
  {
   "cell_type": "code",
   "execution_count": null,
   "metadata": {},
   "outputs": [],
   "source": [
    "import numpy as np\n",
    "from numpy.linalg import norm\n",
    "from numpy.random import normal, choice\n",
    "from numpy.typing import NDArray\n",
    "from typing import Callable"
   ]
  },
  {
   "cell_type": "markdown",
   "metadata": {},
   "source": [
    "## Стохастический градиентный спуск RMSProp"
   ]
  },
  {
   "cell_type": "code",
   "execution_count": 30,
   "metadata": {},
   "outputs": [],
   "source": [
    "def SGD_RMSProp(\n",
    "    start: NDArray,\n",
    "    X: NDArray,\n",
    "    y: NDArray,\n",
    "    L: Callable,\n",
    "    L_grad: Callable,\n",
    "    learning_rate: float = 0.01,\n",
    "    batch_size: int = 64,\n",
    "    decay_rate: float = 0.5,\n",
    "    max_iter=1000,\n",
    "    tol=1e-7,\n",
    "    **kwargs\n",
    ") -> dict:\n",
    "    curr_point = start\n",
    "    W_error = None\n",
    "    run_avg = np.zeros(np.size(start))\n",
    "    curr_iter = 0\n",
    "    while W_error is None or (curr_iter < max_iter and W_error >= tol):\n",
    "        idx = choice(X.shape[0], batch_size, replace=False)\n",
    "        batch_X, batch_y = X[idx, :], np.array([y[idx]]).reshape(idx.shape)\n",
    "\n",
    "        curr_value = L(curr_point, batch_X, batch_y, **kwargs)\n",
    "        curr_grad = L_grad(curr_point, batch_X, batch_y, **kwargs)\n",
    "        run_avg = decay_rate * run_avg + (1 - decay_rate) * curr_grad**2\n",
    "\n",
    "        curr_point -= learning_rate / np.sqrt(run_avg) * curr_grad\n",
    "        W_error = norm(learning_rate * curr_grad)\n",
    "        curr_iter += 1\n",
    "\n",
    "    return {\n",
    "        \"point\": curr_point,\n",
    "        \"L_value\": curr_value,\n",
    "        \"grad_value\": curr_grad,\n",
    "        \"iterations\": curr_iter,\n",
    "    }"
   ]
  },
  {
   "cell_type": "markdown",
   "metadata": {},
   "source": [
    "### Тест SGD RMSPror"
   ]
  },
  {
   "cell_type": "code",
   "execution_count": 34,
   "metadata": {},
   "outputs": [],
   "source": [
    "def L(w, X, y):\n",
    "    X_tmp = np.hstack([X, np.ones((y.size, 1))])\n",
    "    return norm(X_tmp.dot(w) - y) ** 2 / y.size\n",
    "\n",
    "\n",
    "def L_grad(w, X, y):\n",
    "    X_tmp = np.hstack([X, np.ones((y.size, 1))])\n",
    "    return 2 * X_tmp.T.dot(X_tmp.dot(w) - y) / y.size\n",
    "\n",
    "np.random.seed(42)\n",
    "nrow, ncol = 500, 4\n",
    "X = normal(0, 1, ncol * nrow).reshape(nrow, ncol)\n",
    "true_w = np.array([2, -3, 1, 0.5, 4])\n",
    "y = np.hstack([X, np.ones((nrow, 1))]).dot(true_w) + normal(0, 1, nrow)\n",
    "w_start = normal(0, 1, ncol + 1)\n",
    "\n",
    "sgd_rmsprop_res = SGD_RMSProp(start = w_start, X = X, y = y, L = L, L_grad = L_grad, batch_size=100)"
   ]
  },
  {
   "cell_type": "code",
   "execution_count": 35,
   "metadata": {},
   "outputs": [
    {
     "name": "stdout",
     "output_type": "stream",
     "text": [
      "Iterations: 1000\n",
      "||w_e-w_t||^2 = 0.008405491722783303\n"
     ]
    }
   ],
   "source": [
    "print(f'Iterations: {sgd_rmsprop_res[\"iterations\"]}')\n",
    "print(f'||w_e-w_t||^2 = {norm(sgd_rmsprop_res[\"point\"] - true_w) ** 2}')"
   ]
  }
 ],
 "metadata": {
  "kernelspec": {
   "display_name": "Python 3",
   "language": "python",
   "name": "python3"
  },
  "language_info": {
   "codemirror_mode": {
    "name": "ipython",
    "version": 3
   },
   "file_extension": ".py",
   "mimetype": "text/x-python",
   "name": "python",
   "nbconvert_exporter": "python",
   "pygments_lexer": "ipython3",
   "version": "3.12.7"
  }
 },
 "nbformat": 4,
 "nbformat_minor": 2
}
