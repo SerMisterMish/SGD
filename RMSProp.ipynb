{
 "cells": [
  {
   "cell_type": "code",
   "execution_count": 1,
   "metadata": {},
   "outputs": [],
   "source": [
    "import numpy as np\n",
    "from numpy.linalg import norm\n",
    "from numpy.random import normal, beta, choice\n",
    "from numpy.typing import NDArray\n",
    "from scipy.special import gamma, digamma\n",
    "from typing import Callable"
   ]
  },
  {
   "cell_type": "markdown",
   "metadata": {},
   "source": [
    "# Стохастический градиентный спуск RMSProp"
   ]
  },
  {
   "cell_type": "code",
   "execution_count": 2,
   "metadata": {},
   "outputs": [],
   "source": [
    "def SGD_RMSProp(\n",
    "    start: NDArray,\n",
    "    X: NDArray,\n",
    "    y: NDArray,\n",
    "    L_grad: Callable,\n",
    "    batch_size: int,\n",
    "    L: Callable | None = None,\n",
    "    learning_rate: float = 0.01,\n",
    "    decay_rate: float = 0.5,\n",
    "    max_iter=1000,\n",
    "    tol=1e-7,\n",
    "    **kwargs\n",
    ") -> dict:\n",
    "    curr_point = start\n",
    "    W_error = None\n",
    "    run_avg = np.zeros(np.size(start))\n",
    "    curr_iter = 0\n",
    "    curr_value = None\n",
    "    while W_error is None or (curr_iter < max_iter and W_error >= tol):\n",
    "        idx = choice(X.shape[0], batch_size, replace=False)\n",
    "\n",
    "        batch_X, batch_y = X[idx, :], np.array(y[idx]).reshape(idx.shape)\n",
    "\n",
    "        curr_grad = L_grad(curr_point, batch_X, batch_y, **kwargs)\n",
    "        run_avg = decay_rate * run_avg + (1 - decay_rate) * curr_grad**2\n",
    "\n",
    "        curr_point -= learning_rate / np.sqrt(run_avg) * curr_grad\n",
    "        W_error = norm(learning_rate * curr_grad)\n",
    "        curr_iter += 1\n",
    "\n",
    "    if L is not None:\n",
    "        curr_value = L(curr_point, batch_X, batch_y, **kwargs)\n",
    "\n",
    "    return {\n",
    "        \"point\": curr_point,\n",
    "        \"L_value\": curr_value,\n",
    "        \"grad_value\": curr_grad,\n",
    "        \"iterations\": curr_iter,\n",
    "    }"
   ]
  },
  {
   "cell_type": "markdown",
   "metadata": {},
   "source": [
    "### Тест SGD RMSPror"
   ]
  },
  {
   "cell_type": "code",
   "execution_count": 3,
   "metadata": {},
   "outputs": [],
   "source": [
    "def L(w, X, y):\n",
    "    return norm(X.dot(w) - y) ** 2 / y.size\n",
    "\n",
    "\n",
    "def L_grad(w, X, y):\n",
    "    return 2 * X.T.dot(X.dot(w) - y) / y.size\n",
    "\n",
    "\n",
    "np.random.seed(42)\n",
    "nrow, ncol = 500, 4\n",
    "X = normal(0, 1, ncol * nrow).reshape(nrow, ncol)\n",
    "X_ones = np.hstack([X, np.ones((nrow, 1))])\n",
    "true_w = np.array([2, -3, 1, 0.5, 4])\n",
    "y = X_ones.dot(true_w) + normal(0, 1, nrow)\n",
    "w_start = normal(0, 1, ncol + 1)\n",
    "\n",
    "sgd_rmsprop_res = SGD_RMSProp(\n",
    "    start=w_start,\n",
    "    X=X_ones,\n",
    "    y=y,\n",
    "    L_grad=L_grad,\n",
    "    batch_size=100,\n",
    "    decay_rate=0.9\n",
    ")"
   ]
  },
  {
   "cell_type": "code",
   "execution_count": 4,
   "metadata": {},
   "outputs": [
    {
     "name": "stdout",
     "output_type": "stream",
     "text": [
      "Iterations: 1000\n",
      "||w_e-w_t||^2 = 0.009306890328730593\n"
     ]
    }
   ],
   "source": [
    "print(f'Iterations: {sgd_rmsprop_res[\"iterations\"]}')\n",
    "print(f'||w_e-w_t||^2 = {norm(sgd_rmsprop_res[\"point\"] - true_w) ** 2}')"
   ]
  },
  {
   "cell_type": "markdown",
   "metadata": {},
   "source": [
    "## Функция правдоподобия для бета-регрессии\n",
    "[Статья про бета-регрессию](https://www.ime.usp.br/~sferrari/beta.pdf)\n",
    "\n",
    "Пусть $\\xi\\sim \\Beta(\\alpha, \\beta)$.\n",
    "\n",
    "**Плотность**: \n",
    "$$\n",
    "    f_\\xi(x)=\\frac{x^{\\alpha-1}(1-x)^{\\beta-1}}{\\Beta(\\alpha, \\beta)}, \\qquad x \\in (0, 1).\n",
    "$$\n",
    "Для построения бета-регрессии удобнее работать в параметризации через среднее и \"точность\":\n",
    "$$\n",
    "    \\mu = \\frac{\\alpha}{\\alpha + \\beta}, \\qquad \\varphi = \\alpha + \\beta,\\\\\n",
    "    \\mu \\in (0, 1), \\qquad \\varphi > 0.\n",
    "$$\n",
    "Тогда старые параметры выражаются следующим образом:\n",
    "$$\n",
    "    \\alpha = \\mu\\varphi, \\qquad \\beta = (1-\\mu)\\varphi.\n",
    "$$ \n",
    "\n",
    "Среднее и дисперсия хорошо выражаются через новые параметры:\n",
    "$$\n",
    "    \\mathrm{E}(\\xi) = \\mu, \\qquad \\sigma^2 = \\frac{\\mu(1-\\mu)}{1 + \\varphi}\n",
    "$$\n",
    "\n",
    "**Плотность в новой параметризации**:\n",
    "$$\n",
    "    f_\\xi(x) = \\frac{\\Gamma(\\varphi)}{\\Gamma(\\mu\\varphi)\\Gamma((1-\\mu)\\varphi)}x^{\\mu\\varphi-1}(1-x)^{(1-\\mu)\\varphi-1}, \\qquad x \\in (0, 1).\n",
    "$$\n",
    "\n",
    "Пусть $\\mathbf{X}\\in \\mathbb{R}^{n\\times p}$ - выборка регрессоров, $Y \\in \\mathbb{R}^{n}$ - выборка откликов.\n",
    "Предполагается, что $y_i \\sim \\Beta(\\mu_i, \\varphi)$, где параметр $\\varphi$ неизвестен, а\n",
    "$\\mu_i$ выражается через регрессоры:\n",
    "$$\n",
    "    g(\\mu_i) = \\bold{x}^{\\mathrm{T}}_i \\boldsymbol{\\beta}.\n",
    "$$\n",
    "$g(t)$ - произвольная линк-функция, например логит:\n",
    "$$\n",
    "    g(\\mu_i) = \\log\\left( \\frac{\\mu_i}{1-\\mu_i} \\right) = \\bold{x}^{\\mathrm{T}}_i \\boldsymbol{\\beta} \\implies \n",
    "    \\mu_i = \\frac{e^{\\bold{x}^{\\mathrm{T}}_i \\boldsymbol{\\beta}}}{1 + e^{\\bold{x}^{\\mathrm{T}}_i \\boldsymbol{\\beta}}}.\n",
    "$$\n",
    "\n",
    "**Логарифм функции правдоподобия**:\n",
    "$$\n",
    "    L(\\mathbf{X}, \\beta, \\varphi; Y) = \\frac{1}{n}\\sum_{i=1}^{n}l(\\mu_i(\\bold{x}_i, \\beta), \\varphi; y_i)\\\\\n",
    "\n",
    "    l(\\mu_i(\\bold{x}_i, \\beta), \\varphi; y_i) = \\log\\Gamma(\\varphi) - \\log\\Gamma(\\mu_i\\varphi) - \\log\\Gamma((1-\\mu_i)\\varphi) + \n",
    "    (\\mu_i\\varphi - 1) \\log y_i + ((1 - \\mu_i)\\varphi - 1)\\log (1 - y_i).\n",
    "$$"
   ]
  },
  {
   "cell_type": "markdown",
   "metadata": {},
   "source": [
    "## Градиент логарифма функции правдободобия\n",
    "Пусть $\\mathbf{X}$ и $Y$ фиксированы, обозначим \n",
    "$$y_i^* = \\log(y_i / (1 - y_i)), \\qquad \\mu_i^*=\\psi(\\mu_i\\varphi) - \\psi((1 - \\mu_i)\\varphi), \\qquad\n",
    "\\mathbf{T} = \\mathrm{diag}\\left( 1 / g'(\\mu_1), \\ldots, 1 / g'(\\mu_n) \\right),\n",
    "$$\n",
    "$$\n",
    "  Y^* = (y_1^*, \\ldots, y_n^*)^{\\mathrm{T}}, \\qquad \\boldsymbol{\\mu}^* = (\\mu_1^*, \\ldots, \\mu_n^*)^{\\mathrm{T}},\n",
    "$$\n",
    "где $\\psi(z) = (\\log\\Gamma(z))'$ - дигамма-функция (есть в модуле `scipy.special`),\n",
    "тогда градиент логарифма функции правдоподобия равен \n",
    "$\\nabla L(\\beta, \\varphi) = \\left( L_{\\beta}^{\\mathrm{T}}(\\beta, \\varphi), L_{\\varphi}(\\beta, \\varphi) \\right)^{\\mathrm{T}}$, где\n",
    "$$\n",
    "    L_{\\beta}(\\beta, \\varphi) = \\varphi \\mathbf{X}^{\\mathrm{T}}\\mathbf{T}(Y^* - \\boldsymbol{\\mu^*}),\n",
    "$$\n",
    "$$\n",
    "  L_{\\varphi}(\\beta, \\varphi) = \\sum_{i=1}^n \n",
    "  \\big(  \n",
    "    \\mu_i(y_i^* - \\mu_i^*) + \\log(1 - y_i) - \\psi((1 - \\mu_i)\\varphi) + \\psi(\\varphi)\n",
    "  \\big).\n",
    "$$"
   ]
  },
  {
   "cell_type": "code",
   "execution_count": 5,
   "metadata": {},
   "outputs": [],
   "source": [
    "def logit_inverse(x, beta) -> float:\n",
    "    t = np.exp(np.inner(x, beta))\n",
    "    return t / (1 + t)\n",
    "\n",
    "\n",
    "def logit_deriv(mu) -> float:\n",
    "    return 1 / (mu - mu * mu)\n",
    "\n",
    "\n",
    "def beta_log_likelyhood_single(\n",
    "    x: NDArray,\n",
    "    y: float,\n",
    "    beta: NDArray,\n",
    "    phi: float,\n",
    "    link_inverse: Callable,\n",
    "    mu: float | None = None,\n",
    ") -> float:\n",
    "    if mu is None:\n",
    "        mu = link_inverse(x, beta)\n",
    "    prod = mu * phi\n",
    "    return (\n",
    "        np.log(gamma(phi))\n",
    "        - np.log(gamma(prod))\n",
    "        - np.log(gamma(phi - prod))\n",
    "        + (prod - 1) * np.log(y)\n",
    "        + (phi - prod - 1) * np.log(1 - y)\n",
    "    )\n",
    "\n",
    "\n",
    "def beta_inv_log_likelyhood(\n",
    "    parameters: NDArray, X: NDArray, Y: NDArray, link_inverse: Callable, link_deriv = None\n",
    ") -> float:\n",
    "    beta, phi = parameters[:-1], parameters[-1]\n",
    "    return -np.mean(\n",
    "        [log_likelyhood_single(x, y, beta, phi, link_inverse) for (x, y) in zip(X, Y)]\n",
    "    )\n",
    "\n",
    "\n",
    "def beta_illh_grad(\n",
    "    parameters: NDArray,\n",
    "    X: NDArray,\n",
    "    Y: NDArray,\n",
    "    link_inverse: Callable,\n",
    "    link_deriv: Callable,\n",
    ") -> float:\n",
    "    beta, phi = parameters[:-1], parameters[-1]\n",
    "    mu_vec = np.array([link_inverse(x, beta) for x in X])\n",
    "    Y_star = np.array([np.log(y / (1 - y)) for y in Y])\n",
    "    mu_star = np.array([digamma(mu * phi) - digamma((1 - mu) * phi) for mu in mu_vec])\n",
    "    T = np.diag([1 / link_deriv(mu) for mu in mu_vec])\n",
    "    L_beta = phi * X.T.dot(T).dot(Y_star - mu_star) / X.shape[0]\n",
    "    L_phi = np.mean([mu * (y_s - mu_s) + np.log(1 - y) - digamma((1 - mu) * phi) + digamma(phi) for (mu, y, mu_s, y_s) in zip(mu_vec, Y, mu_star, Y_star)])\n",
    "    return -np.append(L_beta, L_phi)"
   ]
  },
  {
   "cell_type": "markdown",
   "metadata": {},
   "source": [
    "### Тест SGD RMSProp для бета регрессии"
   ]
  },
  {
   "cell_type": "code",
   "execution_count": 6,
   "metadata": {},
   "outputs": [
    {
     "name": "stdout",
     "output_type": "stream",
     "text": [
      "CPU times: user 804 ms, sys: 4.37 ms, total: 809 ms\n",
      "Wall time: 819 ms\n"
     ]
    }
   ],
   "source": [
    "%%time\n",
    "\n",
    "np.random.seed(42)\n",
    "nrow, ncol = 500, 4\n",
    "X = normal(0, 1, ncol * nrow).reshape(nrow, ncol)\n",
    "X_ones = np.hstack([X, np.ones((nrow, 1))])\n",
    "true_beta = np.array([0.1, 0.3, 0.01, 0.5, 0.4])\n",
    "true_phi = 3\n",
    "true_mu = [logit_inverse(x, true_beta) for x in X_ones]\n",
    "y = np.array([beta(true_phi * mu, (1 - mu) * true_phi) for mu in true_mu])\n",
    "w_start = np.append(normal(0, 1, ncol + 1), 2)\n",
    "\n",
    "beta_res = SGD_RMSProp(\n",
    "    start=w_start,\n",
    "    X=X_ones,\n",
    "    y=y,\n",
    "    L_grad=beta_illh_grad,\n",
    "    batch_size=100,\n",
    "    learning_rate=0.01,\n",
    "    decay_rate=0.9,\n",
    "    max_iter=1000,\n",
    "    tol=1e-7,\n",
    "    link_inverse=logit_inverse,\n",
    "    link_deriv=logit_deriv,\n",
    ")"
   ]
  },
  {
   "cell_type": "code",
   "execution_count": 7,
   "metadata": {},
   "outputs": [
    {
     "name": "stdout",
     "output_type": "stream",
     "text": [
      "Iterations: 1000\n",
      "||w_e-w_t||^2 = 0.013332413504086283\n"
     ]
    }
   ],
   "source": [
    "print(f'Iterations: {beta_res[\"iterations\"]}')\n",
    "print(f'||w_e-w_t||^2 = {norm(beta_res[\"point\"] - np.append(true_beta, true_phi)) ** 2}')"
   ]
  }
 ],
 "metadata": {
  "kernelspec": {
   "display_name": "Python 3",
   "language": "python",
   "name": "python3"
  },
  "language_info": {
   "codemirror_mode": {
    "name": "ipython",
    "version": 3
   },
   "file_extension": ".py",
   "mimetype": "text/x-python",
   "name": "python",
   "nbconvert_exporter": "python",
   "pygments_lexer": "ipython3",
   "version": "3.12.7"
  }
 },
 "nbformat": 4,
 "nbformat_minor": 2
}
