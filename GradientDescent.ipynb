{
 "cells": [
  {
   "cell_type": "code",
   "execution_count": null,
   "metadata": {},
   "outputs": [],
   "source": [
    "from numpy.linalg import norm\n",
    "from numpy.typing import ArrayLike\n",
    "from typing import Callable"
   ]
  },
  {
   "cell_type": "markdown",
   "metadata": {},
   "source": [
    "## Общая функция градиентного спуска"
   ]
  },
  {
   "cell_type": "code",
   "execution_count": null,
   "metadata": {},
   "outputs": [],
   "source": [
    "def GradientDescent(\n",
    "    start: ArrayLike,\n",
    "    f: Callable,\n",
    "    f_grad: Callable,\n",
    "    learning_rate: float = 0.01,\n",
    "    max_iter=1000,\n",
    "    tol=1e-7,\n",
    "    **kwargs\n",
    ") -> dict:\n",
    "    curr_point = start\n",
    "    curr_value, prev_value = f(curr_point, **kwargs), None\n",
    "    curr_grad = f_grad(curr_point, **kwargs)\n",
    "\n",
    "    curr_iter = 0\n",
    "    while curr_iter == 0 or (\n",
    "        0 < curr_iter < max_iter\n",
    "        and norm(curr_grad) >= tol\n",
    "        and abs(curr_value - prev_value) >= tol\n",
    "    ):\n",
    "        temp_point = curr_point - learning_rate * curr_grad\n",
    "        temp_value = f(temp_point, **kwargs)\n",
    "        curr_point = temp_point\n",
    "        prev_value, curr_value = curr_value, temp_value\n",
    "        curr_grad = f_grad(curr_point, **kwargs)\n",
    "        curr_iter += 1\n",
    "\n",
    "    return {\n",
    "        \"point\": curr_point,\n",
    "        \"f_value\": curr_value,\n",
    "        \"grad_value\": curr_grad,\n",
    "        \"iterations\": curr_iter,\n",
    "    }\n"
   ]
  },
  {
   "cell_type": "markdown",
   "metadata": {},
   "source": [
    "### Тест градиентного спуска"
   ]
  },
  {
   "cell_type": "code",
   "execution_count": null,
   "metadata": {},
   "outputs": [
    {
     "name": "stdout",
     "output_type": "stream",
     "text": [
      "6.299163269775785 (5,)\n"
     ]
    },
    {
     "data": {
      "text/plain": [
       "{'point': array([-0.03087644,  0.31055409,  0.11018273, -0.13628583,  0.21170507]),\n",
       " 'f_value': np.float64(1.1533208330601774),\n",
       " 'grad_value': array([-7.78114477e-05, -2.25666402e-03,  3.51358041e-04,  7.67418060e-04,\n",
       "        -1.97615386e-03]),\n",
       " 'iterations': 632}"
      ]
     },
     "execution_count": 31,
     "metadata": {},
     "output_type": "execute_result"
    }
   ],
   "source": [
    "def f(w, X, y):\n",
    "    return 1 / y.size * norm(X.dot(w) - y) ** 2\n",
    "\n",
    "\n",
    "def f_grad(w, X, y):\n",
    "    return 2 / y.size * X.T.dot(X.dot(w) - y)\n",
    "\n",
    "np.random.seed(42)\n",
    "nrow, ncol = 15, 4\n",
    "X = np.hstack([np.array(normal(0, 1, ncol * nrow)).reshape(nrow, ncol), np.ones((nrow, 1))])\n",
    "y = normal(0, 1, nrow)\n",
    "w_start = normal(0, 1, ncol + 1)\n",
    "# print(f(w_start, X, y), f_grad(w_start, X, y).shape)\n",
    "\n",
    "GradientDescent(w_start, f, f_grad, X = X, y = y)"
   ]
  }
 ],
 "metadata": {
  "kernelspec": {
   "display_name": "Python 3",
   "language": "python",
   "name": "python3"
  },
  "language_info": {
   "codemirror_mode": {
    "name": "ipython",
    "version": 3
   },
   "file_extension": ".py",
   "mimetype": "text/x-python",
   "name": "python",
   "nbconvert_exporter": "python",
   "pygments_lexer": "ipython3",
   "version": "3.12.7"
  }
 },
 "nbformat": 4,
 "nbformat_minor": 2
}
