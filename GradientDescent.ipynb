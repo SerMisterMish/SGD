{
 "cells": [
  {
   "cell_type": "code",
   "execution_count": 1,
   "metadata": {},
   "outputs": [],
   "source": [
    "import numpy as np\n",
    "from numpy.linalg import norm\n",
    "from numpy.random import normal\n",
    "from numpy.typing import NDArray\n",
    "from typing import Callable"
   ]
  },
  {
   "cell_type": "markdown",
   "metadata": {},
   "source": [
    "# Градиентный спуск"
   ]
  },
  {
   "cell_type": "code",
   "execution_count": 2,
   "metadata": {},
   "outputs": [],
   "source": [
    "def GradientDescent(\n",
    "    start: NDArray,\n",
    "    f_grad: Callable,\n",
    "    f: Callable | None = None,\n",
    "    learning_rate: float = 0.01,\n",
    "    max_iter=1000,\n",
    "    tol=1e-7,\n",
    "    **kwargs\n",
    ") -> dict:\n",
    "    curr_point = start\n",
    "    curr_value = None\n",
    "    curr_grad = f_grad(curr_point, **kwargs)\n",
    "\n",
    "    curr_iter = 0\n",
    "    while curr_iter == 0 or (curr_iter < max_iter and norm(curr_grad) >= tol):\n",
    "        curr_point = curr_point - learning_rate * curr_grad\n",
    "        curr_grad = f_grad(curr_point, **kwargs)\n",
    "        curr_iter += 1\n",
    "\n",
    "    if f is not None:\n",
    "        curr_value = f(curr_point, **kwargs)\n",
    "\n",
    "    return {\n",
    "        \"point\": curr_point,\n",
    "        \"f_value\": curr_value,\n",
    "        \"grad_value\": curr_grad,\n",
    "        \"iterations\": curr_iter,\n",
    "    }"
   ]
  },
  {
   "cell_type": "markdown",
   "metadata": {},
   "source": [
    "### Тест градиентного спуска"
   ]
  },
  {
   "cell_type": "code",
   "execution_count": 5,
   "metadata": {},
   "outputs": [],
   "source": [
    "def f(w, X, y):\n",
    "    return 1 / y.size * norm(X.dot(w) - y) ** 2\n",
    "\n",
    "\n",
    "def f_grad(w, X, y):\n",
    "    return 2 / y.size * X.T.dot(X_ones.dot(w) - y)\n",
    "\n",
    "np.random.seed(42)\n",
    "nrow, ncol = 500, 4\n",
    "X = normal(0, 1, ncol * nrow).reshape(nrow, ncol)\n",
    "X_ones = np.hstack([X, np.ones((nrow, 1))])\n",
    "true_w = np.array([2, -3, 1, 0.5, 4])\n",
    "y = X_ones.dot(true_w) + normal(0, 1, nrow)\n",
    "w_start = normal(0, 1, ncol + 1)\n",
    "\n",
    "gd_res = GradientDescent(start=w_start, f_grad=f_grad, X = X_ones, y = y)"
   ]
  },
  {
   "cell_type": "code",
   "execution_count": 6,
   "metadata": {},
   "outputs": [
    {
     "name": "stdout",
     "output_type": "stream",
     "text": [
      "Iterations: 992\n",
      "||w_e-w_t||^2 = 0.011808794591008321\n"
     ]
    }
   ],
   "source": [
    "print(f'Iterations: {gd_res[\"iterations\"]}')\n",
    "print(f'||w_e-w_t||^2 = {norm(gd_res[\"point\"] - true_w) ** 2}')"
   ]
  }
 ],
 "metadata": {
  "kernelspec": {
   "display_name": "Python 3",
   "language": "python",
   "name": "python3"
  },
  "language_info": {
   "codemirror_mode": {
    "name": "ipython",
    "version": 3
   },
   "file_extension": ".py",
   "mimetype": "text/x-python",
   "name": "python",
   "nbconvert_exporter": "python",
   "pygments_lexer": "ipython3",
   "version": "3.12.7"
  }
 },
 "nbformat": 4,
 "nbformat_minor": 2
}
