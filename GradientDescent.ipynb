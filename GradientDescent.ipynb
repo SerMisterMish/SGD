{
 "cells": [
  {
   "cell_type": "code",
   "execution_count": 11,
   "metadata": {},
   "outputs": [],
   "source": [
    "import numpy as np\n",
    "from numpy.linalg import norm\n",
    "from numpy.random import normal\n",
    "from numpy.typing import NDArray\n",
    "from typing import Callable"
   ]
  },
  {
   "cell_type": "markdown",
   "metadata": {},
   "source": [
    "## Общая функция градиентного спуска"
   ]
  },
  {
   "cell_type": "code",
   "execution_count": 12,
   "metadata": {},
   "outputs": [],
   "source": [
    "def GradientDescent(\n",
    "    start: NDArray,\n",
    "    f: Callable,\n",
    "    f_grad: Callable,\n",
    "    learning_rate: float = 0.01,\n",
    "    max_iter=1000,\n",
    "    tol=1e-7,\n",
    "    **kwargs\n",
    ") -> dict:\n",
    "    curr_point = start\n",
    "    curr_value, prev_value = f(curr_point, **kwargs), None\n",
    "    curr_grad = f_grad(curr_point, **kwargs)\n",
    "\n",
    "    curr_iter = 0\n",
    "    while curr_iter == 0 or (\n",
    "        0 < curr_iter < max_iter\n",
    "        and norm(curr_grad) >= tol\n",
    "        and abs(curr_value - prev_value) >= tol\n",
    "    ):\n",
    "        temp_point = curr_point - learning_rate * curr_grad\n",
    "        temp_value = f(temp_point, **kwargs)\n",
    "        curr_point = temp_point\n",
    "        prev_value, curr_value = curr_value, temp_value\n",
    "        curr_grad = f_grad(curr_point, **kwargs)\n",
    "        curr_iter += 1\n",
    "\n",
    "    return {\n",
    "        \"point\": curr_point,\n",
    "        \"f_value\": curr_value,\n",
    "        \"grad_value\": curr_grad,\n",
    "        \"iterations\": curr_iter,\n",
    "    }\n"
   ]
  },
  {
   "cell_type": "markdown",
   "metadata": {},
   "source": [
    "### Тест градиентного спуска"
   ]
  },
  {
   "cell_type": "code",
   "execution_count": 22,
   "metadata": {},
   "outputs": [],
   "source": [
    "def f(w, X, y):\n",
    "    X_tmp = np.hstack([X, np.ones((y.size, 1))])\n",
    "    return 1 / y.size * norm(X_tmp.dot(w) - y) ** 2\n",
    "\n",
    "\n",
    "def f_grad(w, X, y):\n",
    "    X_tmp = np.hstack([X, np.ones((y.size, 1))])\n",
    "    return 2 / y.size * X_tmp.T.dot(X_tmp.dot(w) - y)\n",
    "\n",
    "np.random.seed(42)\n",
    "nrow, ncol = 15, 4\n",
    "X = normal(0, 1, ncol * nrow).reshape(nrow, ncol)\n",
    "true_w = np.array([2, -3, 1, 0.5, 4])\n",
    "y = np.hstack([X, np.ones((nrow, 1))]).dot(true_w) + normal(0, 1, nrow)\n",
    "w_start = normal(0, 1, ncol + 1)\n",
    "\n",
    "gd_res = GradientDescent(w_start, f, f_grad, X = X, y = y)"
   ]
  },
  {
   "cell_type": "code",
   "execution_count": 25,
   "metadata": {},
   "outputs": [
    {
     "name": "stdout",
     "output_type": "stream",
     "text": [
      "Iterations: 976\n",
      "||w_e-w_t||^2 = 0.17407489786824498\n"
     ]
    }
   ],
   "source": [
    "print(f'Iterations: {gd_res[\"iterations\"]}')\n",
    "print(f'||w_e-w_t||^2 = {norm(gd_res[\"point\"] - true_w) ** 2}')"
   ]
  }
 ],
 "metadata": {
  "kernelspec": {
   "display_name": "Python 3",
   "language": "python",
   "name": "python3"
  },
  "language_info": {
   "codemirror_mode": {
    "name": "ipython",
    "version": 3
   },
   "file_extension": ".py",
   "mimetype": "text/x-python",
   "name": "python",
   "nbconvert_exporter": "python",
   "pygments_lexer": "ipython3",
   "version": "3.12.7"
  }
 },
 "nbformat": 4,
 "nbformat_minor": 2
}
