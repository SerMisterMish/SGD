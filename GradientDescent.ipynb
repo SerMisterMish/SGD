{
 "cells": [
  {
   "cell_type": "code",
   "execution_count": 1,
   "metadata": {},
   "outputs": [],
   "source": [
    "import numpy as np\n",
    "from numpy.linalg import norm\n",
    "from numpy.random import normal\n",
    "from numpy.typing import NDArray\n",
    "from typing import Callable"
   ]
  },
  {
   "cell_type": "markdown",
   "metadata": {},
   "source": [
    "# Градиентный спуск"
   ]
  },
  {
   "cell_type": "code",
   "execution_count": 2,
   "metadata": {},
   "outputs": [],
   "source": [
    "from GradientDescent import GradientDescent"
   ]
  },
  {
   "cell_type": "markdown",
   "metadata": {},
   "source": [
    "### Тест градиентного спуска"
   ]
  },
  {
   "cell_type": "code",
   "execution_count": 3,
   "metadata": {},
   "outputs": [],
   "source": [
    "def f(w, X, y):\n",
    "    return 1 / y.size * norm(X.dot(w) - y) ** 2\n",
    "\n",
    "\n",
    "def f_grad(w, X, y):\n",
    "    return 2 / y.size * X.T.dot(X_ones.dot(w) - y)\n",
    "\n",
    "\n",
    "np.random.seed(42)\n",
    "nrow, ncol = 500, 4\n",
    "X = normal(0, 1, ncol * nrow).reshape(nrow, ncol)\n",
    "X_ones = np.hstack([X, np.ones((nrow, 1))])\n",
    "true_w = np.array([2, -3, 1, 0.5, 4])\n",
    "y = X_ones.dot(true_w) + normal(0, 1, nrow)\n",
    "w_start = normal(0, 1, ncol + 1)\n",
    "\n",
    "gd_res = GradientDescent(start=w_start, f_grad=f_grad, X=X_ones, y=y)"
   ]
  },
  {
   "cell_type": "code",
   "execution_count": 4,
   "metadata": {},
   "outputs": [
    {
     "name": "stdout",
     "output_type": "stream",
     "text": [
      "Iterations: 370\n",
      "||w_e-w_t||^2 = 0.011448272704293877\n"
     ]
    }
   ],
   "source": [
    "print(f'Iterations: {gd_res[\"iterations\"]}')\n",
    "print(f'||w_e-w_t||^2 = {norm(gd_res[\"point\"] - true_w) ** 2}')"
   ]
  }
 ],
 "metadata": {
  "kernelspec": {
   "display_name": "Python 3",
   "language": "python",
   "name": "python3"
  },
  "language_info": {
   "codemirror_mode": {
    "name": "ipython",
    "version": 3
   },
   "file_extension": ".py",
   "mimetype": "text/x-python",
   "name": "python",
   "nbconvert_exporter": "python",
   "pygments_lexer": "ipython3",
   "version": "3.12.7"
  }
 },
 "nbformat": 4,
 "nbformat_minor": 2
}
